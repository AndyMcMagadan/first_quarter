{
 "cells": [
  {
   "cell_type": "code",
   "execution_count": null,
   "id": "29a70eac",
   "metadata": {},
   "outputs": [],
   "source": [
    "# Дана функция fx = 5 * x**2 + 10 * x -30\n",
    "# 1. Определить корни\n",
    "# 2. Найти интервалы, на которых функция возрастает\n",
    "# 3. Найти интервалы, на которых функция убывает\n",
    "# 4. Построить график\n",
    "# 5. Вычислить вершину\n",
    "# 6. Определить промежутки, на которых fx > 0\n",
    "# 7. Определить промежутки, на которых fx < 0"
   ]
  },
  {
   "cell_type": "code",
   "execution_count": 3,
   "id": "55541488",
   "metadata": {},
   "outputs": [
    {
     "data": {
      "text/latex": [
       "$\\displaystyle \\left\\{-1 + \\sqrt{7}, - \\sqrt{7} - 1\\right\\}$"
      ],
      "text/plain": [
       "{-1 + sqrt(7), -sqrt(7) - 1}"
      ]
     },
     "execution_count": 3,
     "metadata": {},
     "output_type": "execute_result"
    }
   ],
   "source": [
    "# 1. Определить корни\n",
    "from sympy import *\n",
    "\n",
    "x = Symbol('x')\n",
    "\n",
    "fx = 5 * x**2 + 10 * x -30\n",
    "#Корни уравнения\n",
    "solveset(fx, x)"
   ]
  },
  {
   "cell_type": "code",
   "execution_count": 4,
   "id": "4663c79a",
   "metadata": {},
   "outputs": [
    {
     "data": {
      "text/latex": [
       "$\\displaystyle \\left\\{-3.65, 1.65\\right\\}$"
      ],
      "text/plain": [
       "{-3.65, 1.65}"
      ]
     },
     "execution_count": 4,
     "metadata": {},
     "output_type": "execute_result"
    }
   ],
   "source": [
    "solveset(fx, x, Reals).evalf(3)"
   ]
  },
  {
   "cell_type": "code",
   "execution_count": 6,
   "id": "40dc35f6",
   "metadata": {},
   "outputs": [
    {
     "name": "stdout",
     "output_type": "stream",
     "text": [
      "Возрастает на участке:  [-oo, -1.00]\n",
      "Убывает на участке:  [-1.00, oo]\n"
     ]
    }
   ],
   "source": [
    "# 2. Найти интервалы, на которых функция возрастает\n",
    "# 3. Найти интервалы, на которых функция убывает\n",
    "diff_list = [-oo, oo]\n",
    "diff_list[1:1] = solveset(diff(fx), x, Reals).evalf(3)\n",
    "inc_list, dec_list = [], []\n",
    "for i in range(1, len(diff_list)):\n",
    "    demeanor = is_increasing(fx, Interval.open(diff_list[i - 1], diff_list[i]))\n",
    "    if demeanor:\n",
    "        dec_list.append([diff_list[i - 1], diff_list[i]])\n",
    "        print(f'Убывает на участке: ', *dec_list)\n",
    "    else:\n",
    "        inc_list.append([diff_list[i - 1], diff_list[i]])\n",
    "        print(f'Возрастает на участке: ', *inc_list)"
   ]
  },
  {
   "cell_type": "code",
   "execution_count": 7,
   "id": "f4306fd0",
   "metadata": {},
   "outputs": [
    {
     "data": {
      "image/png": "[encoded data removed]",
      "text/plain": [
       "<Figure size 640x480 with 1 Axes>"
      ]
     },
     "metadata": {},
     "output_type": "display_data"
    },
    {
     "data": {
      "text/plain": [
       "<sympy.plotting.plot.Plot at 0x7fc4b1c3d880>"
      ]
     },
     "execution_count": 7,
     "metadata": {},
     "output_type": "execute_result"
    }
   ],
   "source": [
    "# 4. Построить график\n",
    "from sympy.plotting import plot\n",
    "init_printing()\n",
    "\n",
    "plot(fx, (x, -2.5, 1.5))"
   ]
  },
  {
   "cell_type": "code",
   "execution_count": 8,
   "id": "cfaf7709",
   "metadata": {},
   "outputs": [
    {
     "name": "stdout",
     "output_type": "stream",
     "text": [
      "Минимум: (-1.00, -35.0)\n"
     ]
    }
   ],
   "source": [
    "# 5. Вычислить вершину\n",
    "from random import uniform\n",
    "\n",
    "dataset = sorted(solveset(diff(fx), x, Reals).evalf(3))\n",
    "dataset.insert(0, dataset[0] - 1)\n",
    "\n",
    "dif = diff(fx)\n",
    "my_list = []\n",
    "\n",
    "for index, value in enumerate(dataset):\n",
    "    my_list.append(dif.subs(x, uniform(value, dataset[index] + 1)))\n",
    "    if index:\n",
    "        if my_list[index - 1] < 0 < my_list[index]:\n",
    "            print(f'Минимум: ({value}, {fx.subs(x, value).evalf(3)})')\n",
    "        elif my_list[index - 1] > 0 > my_list[index]:\n",
    "            print(f'Максимум: ({value}, {fx.subs(x, value).evalf(3)})')"
   ]
  },
  {
   "cell_type": "code",
   "execution_count": 9,
   "id": "175ec85c",
   "metadata": {},
   "outputs": [
    {
     "name": "stdout",
     "output_type": "stream",
     "text": [
      "fx > 0 в интервале:\n"
     ]
    },
    {
     "data": {
      "image/png": "[encoded data removed]",
      "text/latex": [
       "$\\displaystyle \\left(-\\infty, -3.65\\right) \\cup \\left(1.65, \\infty\\right)$"
      ],
      "text/plain": [
       "(-∞, -3.65) ∪ (1.65, ∞)"
      ]
     },
     "execution_count": 9,
     "metadata": {},
     "output_type": "execute_result"
    }
   ],
   "source": [
    "# 6. Определить промежутки, на которых fx > 0\n",
    "\n",
    "print('fx > 0 в интервале:')\n",
    "solveset(fx > 0, x, Reals).evalf(3)"
   ]
  },
  {
   "cell_type": "code",
   "execution_count": 10,
   "id": "3d843c19",
   "metadata": {},
   "outputs": [
    {
     "name": "stdout",
     "output_type": "stream",
     "text": [
      "fx < 0 в интервале:\n"
     ]
    },
    {
     "data": {
      "image/png": "[encoded data removed]",
      "text/latex": [
       "$\\displaystyle \\left(-3.65, 1.65\\right)$"
      ],
      "text/plain": [
       "(-3.65, 1.65)"
      ]
     },
     "execution_count": 10,
     "metadata": {},
     "output_type": "execute_result"
    }
   ],
   "source": [
    "# 7. Определить промежутки, на которых fx < 0\n",
    "\n",
    "print('fx < 0 в интервале:')\n",
    "solveset(fx < 0, x, Reals).evalf(3)"
   ]
  }
 ],
 "metadata": {
  "kernelspec": {
   "display_name": "Python 3 (ipykernel)",
   "language": "python",
   "name": "python3"
  },
  "language_info": {
   "codemirror_mode": {
    "name": "ipython",
    "version": 3
   },
   "file_extension": ".py",
   "mimetype": "text/x-python",
   "name": "python",
   "nbconvert_exporter": "python",
   "pygments_lexer": "ipython3",
   "version": "3.9.13"
  }
 },
 "nbformat": 4,
 "nbformat_minor": 5
}
