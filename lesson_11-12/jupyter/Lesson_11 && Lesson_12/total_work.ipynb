{
 "cells": [
  {
   "cell_type": "raw",
   "id": "ee2311fb",
   "metadata": {},
   "source": [
    "Исследуйте функции:\n",
    "1. Определить корни\n",
    "2. Найти интервалы, на которых функция возрастает\n",
    "3. Найти интервалы, на которых функция убывает\n",
    "4. Построить график\n",
    "5. Вычислить вершину\n",
    "6. Определить промежутки, на которых fx > 0\n",
    "7. Определить промежутки, на которых fx < 0"
   ]
  },
  {
   "cell_type": "raw",
   "id": "82dacec8",
   "metadata": {},
   "source": [
    "Функция 1:\n",
    "f = -18 * x ** 3 + 5 * x ** 2 + 10 * x - 30"
   ]
  },
  {
   "cell_type": "code",
   "execution_count": 19,
   "id": "04026e1e",
   "metadata": {},
   "outputs": [
    {
     "data": {
      "image/png": "[encoded data removed]",
      "text/latex": [
       "$\\displaystyle \\left\\{-1.24\\right\\}$"
      ],
      "text/plain": [
       "{-1.24}"
      ]
     },
     "execution_count": 19,
     "metadata": {},
     "output_type": "execute_result"
    }
   ],
   "source": [
    "# 1. Определить корни\n",
    "\n",
    "from sympy import *\n",
    "\n",
    "x = Symbol('x')\n",
    "fx1 = -18 * x ** 3 + 5 * x ** 2 + 10 * x - 30\n",
    "\n",
    "#Корни уравнения\n",
    "solveset(fx1, x, Reals).evalf(3)"
   ]
  },
  {
   "cell_type": "code",
   "execution_count": 20,
   "id": "834ab346",
   "metadata": {},
   "outputs": [
    {
     "name": "stdout",
     "output_type": "stream",
     "text": [
      "Возрастает на участке:  [-0.348, 0.533]\n",
      "Убывает на участке:  [-oo, -0.348] [0.533, oo]\n"
     ]
    }
   ],
   "source": [
    "# 2. Найти интервалы, на которых функция возрастает\n",
    "# 3. Найти интервалы, на которых функция убывает\n",
    "\n",
    "diff_list = [-oo, oo]\n",
    "diff_list[1:1] = solveset(diff(fx1), x, Reals).evalf(3)\n",
    "inc_list, dec_list = [], []\n",
    "for i in range(1, len(diff_list)):\n",
    "    demeanor = is_increasing(fx1, Interval.open(diff_list[i - 1], diff_list[i]))\n",
    "    if demeanor:\n",
    "        inc_list.append([diff_list[i - 1], diff_list[i]])\n",
    "    else:\n",
    "        dec_list.append([diff_list[i - 1], diff_list[i]])\n",
    "\n",
    "print(f'Возрастает на участке: ', *inc_list)\n",
    "print(f'Убывает на участке: ', *dec_list)"
   ]
  },
  {
   "cell_type": "code",
   "execution_count": 21,
   "id": "734058dd",
   "metadata": {},
   "outputs": [
    {
     "data": {
      "image/png": "[encoded data removed]",
      "text/plain": [
       "<Figure size 640x480 with 1 Axes>"
      ]
     },
     "metadata": {},
     "output_type": "display_data"
    },
    {
     "data": {
      "text/plain": [
       "<sympy.plotting.plot.Plot at 0x7f0765e43700>"
      ]
     },
     "execution_count": 21,
     "metadata": {},
     "output_type": "execute_result"
    }
   ],
   "source": [
    "# 4. Построить график\n",
    "from sympy.plotting import plot\n",
    "init_printing()\n",
    "\n",
    "plot(fx1, (x, -2, 2))"
   ]
  },
  {
   "cell_type": "code",
   "execution_count": 22,
   "id": "244f73b9",
   "metadata": {},
   "outputs": [
    {
     "name": "stdout",
     "output_type": "stream",
     "text": [
      "Минимум: (-0.348, -32.1)\n",
      "Максимум: (0.533, -26.0)\n"
     ]
    }
   ],
   "source": [
    "# 5. Вычислить вершину\n",
    "from random import uniform\n",
    "\n",
    "dataset = sorted(solveset(diff(fx1), x, Reals).evalf(3))\n",
    "dataset.insert(0, dataset[0] - 1)\n",
    "\n",
    "dif = diff(fx1)\n",
    "my_list = []\n",
    "\n",
    "for index, value in enumerate(dataset):\n",
    "    my_list.append(dif.subs(x, uniform(value, dataset[index] + 1)))\n",
    "    if index:\n",
    "        if my_list[index - 1] < 0 < my_list[index]:\n",
    "            print(f'Минимум: ({value}, {fx1.subs(x, value).evalf(3)})')\n",
    "        elif my_list[index - 1] > 0 > my_list[index]:\n",
    "            print(f'Максимум: ({value}, {fx1.subs(x, value).evalf(3)})')"
   ]
  },
  {
   "cell_type": "code",
   "execution_count": 23,
   "id": "566d847e",
   "metadata": {},
   "outputs": [
    {
     "name": "stdout",
     "output_type": "stream",
     "text": [
      "fx1 > 0 в интервале:\n"
     ]
    },
    {
     "data": {
      "image/png": "[encoded data removed]",
      "text/latex": [
       "$\\displaystyle \\left(-\\infty, -1.24\\right)$"
      ],
      "text/plain": [
       "(-∞, -1.24)"
      ]
     },
     "execution_count": 23,
     "metadata": {},
     "output_type": "execute_result"
    }
   ],
   "source": [
    "# 6. Определить промежутки, на которых fx > 0\n",
    "\n",
    "print('fx1 > 0 в интервале:')\n",
    "solveset(fx1 > 0, x, Reals).evalf(3)"
   ]
  },
  {
   "cell_type": "code",
   "execution_count": 24,
   "id": "f59a6ad8",
   "metadata": {},
   "outputs": [
    {
     "name": "stdout",
     "output_type": "stream",
     "text": [
      "fx1 < 0 в интервале:\n"
     ]
    },
    {
     "data": {
      "image/png": "[encoded data removed]",
      "text/latex": [
       "$\\displaystyle \\left(-1.24, \\infty\\right)$"
      ],
      "text/plain": [
       "(-1.24, ∞)"
      ]
     },
     "execution_count": 24,
     "metadata": {},
     "output_type": "execute_result"
    }
   ],
   "source": [
    "# 7. Определить промежутки, на которых fx < 0\n",
    "\n",
    "print('fx1 < 0 в интервале:')\n",
    "solveset(fx1 < 0, x, Reals).evalf(3)"
   ]
  },
  {
   "cell_type": "raw",
   "id": "5572e230",
   "metadata": {},
   "source": [
    "Функция 2:\n",
    "f = 2 * x ** 3 + 2 * x ** 2 - 18 * x - 18"
   ]
  },
  {
   "cell_type": "code",
   "execution_count": 25,
   "id": "53352d48",
   "metadata": {},
   "outputs": [
    {
     "data": {
      "image/png": "[encoded data removed]",
      "text/latex": [
       "$\\displaystyle \\left\\{-3.0, -1.0, 3.0\\right\\}$"
      ],
      "text/plain": [
       "{-3.0, -1.0, 3.0}"
      ]
     },
     "execution_count": 25,
     "metadata": {},
     "output_type": "execute_result"
    }
   ],
   "source": [
    "# 1. Определить корни\n",
    "\n",
    "from sympy import *\n",
    "\n",
    "x = Symbol('x')\n",
    "fx2 = 2 * x ** 3 + 2 * x ** 2 - 18 * x - 18\n",
    "\n",
    "#Корни уравнения\n",
    "solveset(fx, x, Reals).evalf(3)"
   ]
  },
  {
   "cell_type": "code",
   "execution_count": 26,
   "id": "47f61fe8",
   "metadata": {},
   "outputs": [
    {
     "name": "stdout",
     "output_type": "stream",
     "text": [
      "Возрастает на участке:  [-oo, -2.10]\n",
      "Убывает на участке:  [-2.10, 1.43] [1.43, oo]\n"
     ]
    }
   ],
   "source": [
    "# 2. Найти интервалы, на которых функция возрастает\n",
    "# 3. Найти интервалы, на которых функция убывает\n",
    "\n",
    "diff_list = [-oo, oo]\n",
    "diff_list[1:1] = solveset(diff(fx2), x, Reals).evalf(3)\n",
    "inc_list, dec_list = [], []\n",
    "for i in range(1, len(diff_list)):\n",
    "    demeanor = is_increasing(fx2, Interval.open(diff_list[i - 1], diff_list[i]))\n",
    "    if demeanor:\n",
    "        inc_list.append([diff_list[i - 1], diff_list[i]])\n",
    "    else:\n",
    "        dec_list.append([diff_list[i - 1], diff_list[i]])\n",
    "\n",
    "print(f'Возрастает на участке: ', *inc_list)\n",
    "print(f'Убывает на участке: ', *dec_list)"
   ]
  },
  {
   "cell_type": "code",
   "execution_count": 27,
   "id": "c7676abd",
   "metadata": {},
   "outputs": [
    {
     "data": {
      "image/png": "[encoded data removed]",
      "text/plain": [
       "<Figure size 640x480 with 1 Axes>"
      ]
     },
     "metadata": {},
     "output_type": "display_data"
    },
    {
     "data": {
      "text/plain": [
       "<sympy.plotting.plot.Plot at 0x7f0765c1afa0>"
      ]
     },
     "execution_count": 27,
     "metadata": {},
     "output_type": "execute_result"
    }
   ],
   "source": [
    "# 4. Построить график\n",
    "from sympy.plotting import plot\n",
    "init_printing()\n",
    "\n",
    "plot(fx2, (x, -4, 4))"
   ]
  },
  {
   "cell_type": "code",
   "execution_count": 28,
   "id": "50e701f0",
   "metadata": {},
   "outputs": [
    {
     "name": "stdout",
     "output_type": "stream",
     "text": [
      "Максимум: (-2.10, 10.1)\n",
      "Минимум: (1.43, -33.8)\n"
     ]
    }
   ],
   "source": [
    "# 5. Вычислить вершину\n",
    "from random import uniform\n",
    "\n",
    "dataset = sorted(solveset(diff(fx2), x, Reals).evalf(3))\n",
    "dataset.insert(0, dataset[0] - 1)\n",
    "\n",
    "dif = diff(fx2)\n",
    "my_list = []\n",
    "\n",
    "for index, value in enumerate(dataset):\n",
    "    my_list.append(dif.subs(x, uniform(value, dataset[index] + 1)))\n",
    "    if index:\n",
    "        if my_list[index - 1] < 0 < my_list[index]:\n",
    "            print(f'Минимум: ({value}, {fx2.subs(x, value).evalf(3)})')\n",
    "        elif my_list[index - 1] > 0 > my_list[index]:\n",
    "            print(f'Максимум: ({value}, {fx2.subs(x, value).evalf(3)})')"
   ]
  },
  {
   "cell_type": "code",
   "execution_count": 29,
   "id": "3c8831b6",
   "metadata": {},
   "outputs": [
    {
     "name": "stdout",
     "output_type": "stream",
     "text": [
      "fx2 > 0 в интервале:\n"
     ]
    },
    {
     "data": {
      "image/png": "[encoded data removed]",
      "text/latex": [
       "$\\displaystyle \\left(-3.0, -1.0\\right) \\cup \\left(3.0, \\infty\\right)$"
      ],
      "text/plain": [
       "(-3.0, -1.0) ∪ (3.0, ∞)"
      ]
     },
     "execution_count": 29,
     "metadata": {},
     "output_type": "execute_result"
    }
   ],
   "source": [
    "# 6. Определить промежутки, на которых fx > 0\n",
    "\n",
    "print('fx2 > 0 в интервале:')\n",
    "solveset(fx2 > 0, x, Reals).evalf(3)"
   ]
  },
  {
   "cell_type": "code",
   "execution_count": 30,
   "id": "96b6ede9",
   "metadata": {},
   "outputs": [
    {
     "name": "stdout",
     "output_type": "stream",
     "text": [
      "fx2 < 0 в интервале:\n"
     ]
    },
    {
     "data": {
      "image/png": "[encoded data removed]",
      "text/latex": [
       "$\\displaystyle \\left(-\\infty, -3.0\\right) \\cup \\left(-1.0, 3.0\\right)$"
      ],
      "text/plain": [
       "(-∞, -3.0) ∪ (-1.0, 3.0)"
      ]
     },
     "execution_count": 30,
     "metadata": {},
     "output_type": "execute_result"
    }
   ],
   "source": [
    "# 7. Определить промежутки, на которых fx < 0\n",
    "\n",
    "print('fx2 < 0 в интервале:')\n",
    "solveset(fx2 < 0, x, Reals).evalf(3)"
   ]
  },
  {
   "cell_type": "raw",
   "id": "dcb6aee0",
   "metadata": {},
   "source": [
    "Функция 3:\n",
    "f = (x ** 2 + 3) / (3 * (x + 1))"
   ]
  },
  {
   "cell_type": "code",
   "execution_count": 31,
   "id": "527a4310",
   "metadata": {},
   "outputs": [
    {
     "data": {
      "image/png": "[encoded data removed]",
      "text/latex": [
       "$\\displaystyle \\left\\{-3.0, -1.0, 3.0\\right\\}$"
      ],
      "text/plain": [
       "{-3.0, -1.0, 3.0}"
      ]
     },
     "execution_count": 31,
     "metadata": {},
     "output_type": "execute_result"
    }
   ],
   "source": [
    "# 1. Определить корни\n",
    "\n",
    "from sympy import *\n",
    "\n",
    "x = Symbol('x')\n",
    "fx3 = 2 * x ** 3 + 2 * x ** 2 - 18 * x - 18\n",
    "\n",
    "#Корни уравнения\n",
    "solveset(fx3, x, Reals).evalf(3)"
   ]
  },
  {
   "cell_type": "code",
   "execution_count": 32,
   "id": "f19d3c39",
   "metadata": {},
   "outputs": [
    {
     "name": "stdout",
     "output_type": "stream",
     "text": [
      "Возрастает на участке:  [-oo, -2.10]\n",
      "Убывает на участке:  [-2.10, 1.43] [1.43, oo]\n"
     ]
    }
   ],
   "source": [
    "# 2. Найти интервалы, на которых функция возрастает\n",
    "# 3. Найти интервалы, на которых функция убывает\n",
    "\n",
    "diff_list = [-oo, oo]\n",
    "diff_list[1:1] = solveset(diff(fx3), x, Reals).evalf(3)\n",
    "inc_list, dec_list = [], []\n",
    "for i in range(1, len(diff_list)):\n",
    "    demeanor = is_increasing(fx3, Interval.open(diff_list[i - 1], diff_list[i]))\n",
    "    if demeanor:\n",
    "        inc_list.append([diff_list[i - 1], diff_list[i]])\n",
    "    else:\n",
    "        dec_list.append([diff_list[i - 1], diff_list[i]])\n",
    "\n",
    "print(f'Возрастает на участке: ', *inc_list)\n",
    "print(f'Убывает на участке: ', *dec_list)"
   ]
  },
  {
   "cell_type": "code",
   "execution_count": 33,
   "id": "c68cf4d4",
   "metadata": {},
   "outputs": [
    {
     "data": {
      "image/png": "[encoded data removed]",
      "text/plain": [
       "<Figure size 640x480 with 1 Axes>"
      ]
     },
     "metadata": {},
     "output_type": "display_data"
    },
    {
     "data": {
      "text/plain": [
       "<sympy.plotting.plot.Plot at 0x7f0765b81be0>"
      ]
     },
     "execution_count": 33,
     "metadata": {},
     "output_type": "execute_result"
    }
   ],
   "source": [
    "# 4. Построить график\n",
    "\n",
    "from sympy.plotting import plot\n",
    "init_printing()\n",
    "\n",
    "plot(fx3, (x, -4, 4))"
   ]
  },
  {
   "cell_type": "code",
   "execution_count": 34,
   "id": "f571b137",
   "metadata": {},
   "outputs": [
    {
     "name": "stdout",
     "output_type": "stream",
     "text": [
      "Максимум: (-2.10, 10.1)\n",
      "Минимум: (1.43, -33.8)\n"
     ]
    }
   ],
   "source": [
    "# 5. Вычислить вершину\n",
    "from random import uniform\n",
    "\n",
    "dataset = sorted(solveset(diff(fx3), x, Reals).evalf(3))\n",
    "dataset.insert(0, dataset[0] - 1)\n",
    "\n",
    "dif = diff(fx3)\n",
    "my_list = []\n",
    "\n",
    "for index, value in enumerate(dataset):\n",
    "    my_list.append(dif.subs(x, uniform(value, dataset[index] + 1)))\n",
    "    if index:\n",
    "        if my_list[index - 1] < 0 < my_list[index]:\n",
    "            print(f'Минимум: ({value}, {fx3.subs(x, value).evalf(3)})')\n",
    "        elif my_list[index - 1] > 0 > my_list[index]:\n",
    "            print(f'Максимум: ({value}, {fx3.subs(x, value).evalf(3)})')"
   ]
  },
  {
   "cell_type": "code",
   "execution_count": 35,
   "id": "bb655a48",
   "metadata": {},
   "outputs": [
    {
     "name": "stdout",
     "output_type": "stream",
     "text": [
      "fx3 > 0 в интервале:\n"
     ]
    },
    {
     "data": {
      "image/png": "[encoded data removed]",
      "text/latex": [
       "$\\displaystyle \\left(-3.0, -1.0\\right) \\cup \\left(3.0, \\infty\\right)$"
      ],
      "text/plain": [
       "(-3.0, -1.0) ∪ (3.0, ∞)"
      ]
     },
     "execution_count": 35,
     "metadata": {},
     "output_type": "execute_result"
    }
   ],
   "source": [
    "# 6. Определить промежутки, на которых fx > 0\n",
    "\n",
    "print('fx3 > 0 в интервале:')\n",
    "solveset(fx3 > 0, x, Reals).evalf(3)"
   ]
  },
  {
   "cell_type": "code",
   "execution_count": 36,
   "id": "523ad885",
   "metadata": {},
   "outputs": [
    {
     "name": "stdout",
     "output_type": "stream",
     "text": [
      "fx3 < 0 в интервале:\n"
     ]
    },
    {
     "data": {
      "image/png": "[encoded data removed]",
      "text/latex": [
       "$\\displaystyle \\left(-\\infty, -3.0\\right) \\cup \\left(-1.0, 3.0\\right)$"
      ],
      "text/plain": [
       "(-∞, -3.0) ∪ (-1.0, 3.0)"
      ]
     },
     "execution_count": 36,
     "metadata": {},
     "output_type": "execute_result"
    }
   ],
   "source": [
    "# 7. Определить промежутки, на которых fx < 0\n",
    "\n",
    "print('fx3 < 0 в интервале:')\n",
    "solveset(fx3 < 0, x, Reals).evalf(3)"
   ]
  }
 ],
 "metadata": {
  "kernelspec": {
   "display_name": "Python 3 (ipykernel)",
   "language": "python",
   "name": "python3"
  },
  "language_info": {
   "codemirror_mode": {
    "name": "ipython",
    "version": 3
   },
   "file_extension": ".py",
   "mimetype": "text/x-python",
   "name": "python",
   "nbconvert_exporter": "python",
   "pygments_lexer": "ipython3",
   "version": "3.9.13"
  }
 },
 "nbformat": 4,
 "nbformat_minor": 5
}
